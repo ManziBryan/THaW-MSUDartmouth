{
 "cells": [
  {
   "cell_type": "code",
   "execution_count": 8,
   "metadata": {},
   "outputs": [],
   "source": [
    "import keras\n",
    "from keras.datasets import mnist\n",
    "#load mnist dataset\n",
    "(X_train, y_train), (X_test, y_test) = mnist.load_data() #everytime loading data won't be so easy :)\n",
    "\n",
    "class NeuralNetwork:\n",
    "    def __init__(self, x, y):\n",
    "        self.input = x #matrix?\n",
    "        self.weights1 = np.random.rand(self.input.shape[1],4)\n",
    "        self.y = y\n",
    "        self.output = np.zeros(y.shape)\n",
    "    \n",
    "    def feedforward(self):\n",
    "        \n",
    "        \n",
    "    "
   ]
  },
  {
   "cell_type": "code",
   "execution_count": 56,
   "metadata": {
    "scrolled": true
   },
   "outputs": [
    {
     "name": "stdout",
     "output_type": "stream",
     "text": [
      "(60000, 28, 28)\n",
      "(60000, 784)\n"
     ]
    }
   ],
   "source": [
    "from keras.datasets import mnist\n",
    "(train_images, train_labels), (test_images, test_labels) = mnist.load_data()\n",
    "\n",
    "from keras import models\n",
    "from keras import layers\n",
    "\n",
    "network = models.Sequential()\n",
    "network.add(layers.Dense(512, activation='relu', input_shape=(28 * 28,)))\n",
    "network.add(layers.Dense(10, activation='softmax'))\n",
    "\n",
    "network.compile(optimizer='rmsprop',\n",
    "                loss='categorical_crossentropy',\n",
    "                metrics=['accuracy'])\n",
    "print(train_images.shape)\n",
    "train_images = train_images.reshape((60000, 28 * 28))\n",
    "print(train_images.shape)\n",
    "train_images = train_images.astype('float32') / 255\n",
    "\n",
    "# test_images = test_images.reshape((10000, 28 * 28))\n",
    "# test_images = test_images.astype('float32') / 255\n",
    "\n",
    "# from keras.utils import to_categorical\n",
    "\n",
    "# train_labels = to_categorical(train_labels)\n",
    "# test_labels = to_categorical(test_labels)\n",
    "\n",
    "# network.fit(train_images, train_labels, epochs=5, batch_size=128)\n",
    "\n",
    "# test_loss, test_acc = network.evaluate(test_images, test_labels)\n",
    "# print('test_acc:', test_acc)"
   ]
  },
  {
   "cell_type": "code",
   "execution_count": 53,
   "metadata": {},
   "outputs": [
    {
     "name": "stdout",
     "output_type": "stream",
     "text": [
      "[0. 0.]\n",
      "[1 2]\n",
      "[5. 0.]\n",
      "[17.  0.]\n",
      "[17. 15.]\n",
      "[17. 39.]\n",
      "[17. 39.]\n"
     ]
    }
   ],
   "source": [
    "import numpy as np\n",
    "x1 = np.array([[5, 78, 2, 34, 0, 0], \n",
    "                  [5, 78, 32, 14, 22, 0],\n",
    "                  [6, 79, 3, 35, 1, 0],\n",
    "                  [7, 80, 4, 36, 2, 9]])\n",
    "x = np.array([[1, 2], [3, 4]])\n",
    "y = np.array([5, 6])\n",
    "# x = x.copy()                             \n",
    "# for i in range(x.shape[0]):\n",
    "#     for j in range(x.shape[1]):\n",
    "# #         print(x.shape[1])\n",
    "# return x\n",
    "\n",
    "def naive_matrix_vector_dot(x, y):\n",
    "    assert len(x.shape) == 2                  \n",
    "    assert len(y.shape) == 1                  \n",
    "    assert x.shape[1] == y.shape[0]           \n",
    "\n",
    "    z = np.zeros(x.shape[0])    \n",
    "    print(z)\n",
    "    print(x[0])\n",
    "    for i in range(x.shape[0]):\n",
    "        for j in range(x.shape[1]):\n",
    "            z[i] += x[i, j] * y[j]\n",
    "            print(z)\n",
    "#             prin\n",
    "    return z\n",
    "print(naive_matrix_vector_dot(x, y))\n"
   ]
  },
  {
   "cell_type": "code",
   "execution_count": null,
   "metadata": {},
   "outputs": [],
   "source": [
    "from keras.datasets import mnist\n",
    "(train_images, train_labels), (test_images, test_labels) = mnist.load_data()\n",
    "\n",
    "digit = train_images[4]\n",
    "\n",
    "import matplotlib.pyplot as plt\n",
    "plt.imshow(digit, cmap=plt.cm.binary)\n",
    "print(plt)#.show()"
   ]
  }
 ],
 "metadata": {
  "kernelspec": {
   "display_name": "Python 3",
   "language": "python",
   "name": "python3"
  },
  "language_info": {
   "codemirror_mode": {
    "name": "ipython",
    "version": 3
   },
   "file_extension": ".py",
   "mimetype": "text/x-python",
   "name": "python",
   "nbconvert_exporter": "python",
   "pygments_lexer": "ipython3",
   "version": "3.7.3"
  }
 },
 "nbformat": 4,
 "nbformat_minor": 2
}
