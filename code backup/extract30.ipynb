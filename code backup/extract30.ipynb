{
 "cells": [
  {
   "cell_type": "code",
   "execution_count": 18,
   "metadata": {},
   "outputs": [],
   "source": [
    "import pandas as pd\n",
    "import os\n",
    "from os.path import isfile, join\n",
    "from os import listdir\n",
    "import math\n",
    "from path import Path\n",
    "import random\n",
    "\n",
    "path = r'features.xlsx'\n",
    "\n",
    "def pickThirty(path):\n",
    "    df = pd.read_excel(path)\n",
    "    seventy = df\n",
    "    thirty = df\n",
    "    i = 0\n",
    "    \n",
    "    while i < df.index.max():\n",
    "        if  random.randint(0, 10) < 3:\n",
    "            seventy = seventy[seventy.index != i]\n",
    "        else:\n",
    "            thirty = thirty[thirty.index != i]\n",
    "        i+=1\n",
    "    seventy.to_excel(\"seventyFeatures.xlsx\")\n",
    "    thirty.to_excel(\"thirtyFeatures.xlsx\")\n",
    "pickThirty(path)"
   ]
  },
  {
   "cell_type": "code",
   "execution_count": null,
   "metadata": {},
   "outputs": [],
   "source": []
  }
 ],
 "metadata": {
  "kernelspec": {
   "display_name": "Python 3",
   "language": "python",
   "name": "python3"
  },
  "language_info": {
   "codemirror_mode": {
    "name": "ipython",
    "version": 3
   },
   "file_extension": ".py",
   "mimetype": "text/x-python",
   "name": "python",
   "nbconvert_exporter": "python",
   "pygments_lexer": "ipython3",
   "version": "3.7.3"
  }
 },
 "nbformat": 4,
 "nbformat_minor": 2
}
