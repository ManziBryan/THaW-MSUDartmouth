{
 "cells": [
  {
   "cell_type": "code",
   "execution_count": 3,
   "metadata": {},
   "outputs": [],
   "source": [
    "from sklearn.naive_bayes import MultinomialNB\n",
    "from sklearn.naive_bayes import GaussianNB\n",
    "from sklearn.ensemble import RandomForestClassifier\n",
    "from sklearn.tree import DecisionTreeClassifier\n",
    "import pandas as pd\n",
    "from sklearn import model_selection\n",
    "from sklearn.preprocessing import MinMaxScaler\n",
    "from sklearn.model_selection import cross_validate\n",
    "\n",
    "def multiNom(trainDir, classifier):\n",
    "    \n",
    "    train = pd.read_csv(trainDir)\n",
    "    copyTrain = train.copy()\n",
    "    scoring = {'acc': 'accuracy',\n",
    "           'prec_macro': 'precision_macro',\n",
    "           'rec_macro': 'recall_macro',\n",
    "              'f1_macro': 'f1_macro'}\n",
    "    \n",
    "    Y = train['Label']\n",
    "    X = copyTrain.drop(columns = 'Label')\n",
    "    validation_size = 0.1\n",
    "    seed = 7\n",
    "    \n",
    "    X_train, X_validation, Y_train, Y_validation = model_selection.train_test_split(X, Y, \n",
    "                                                    test_size=validation_size, random_state=seed)\n",
    "    \n",
    "    scaler = MinMaxScaler(feature_range = (0, 100)) \n",
    "    scaled = scaler.fit(X_train)\n",
    "    scaled = scaler.transform(X_train)\n",
    "    X_train = pd.DataFrame(data = scaled, columns = X.columns)\n",
    "    clf.fit(X_train, Y_train)\n",
    "    \n",
    "    kfold = model_selection.StratifiedKFold(n_splits=10, random_state=seed) #same number of samples from each \n",
    "\n",
    "    \n",
    "    cv_results = cross_validate(clf, X_train, Y_train, cv=kfold, scoring=scoring, return_train_score=True)\n",
    "    for metric in cv_results.keys():\n",
    "        print(metric + \": \" + str(cv_results[metric].mean()))\n",
    "    print('\\n')\n",
    "    \n",
    "    \n",
    "    labels = Y.unique()\n",
    "#     print(X_train)\n",
    "    \n",
    "\n"
   ]
  },
  {
   "cell_type": "code",
   "execution_count": 4,
   "metadata": {},
   "outputs": [
    {
     "name": "stdout",
     "output_type": "stream",
     "text": [
      "fit_time: 0.051354074478149415\n",
      "score_time: 0.012222552299499511\n",
      "test_acc: 0.8315544302939241\n",
      "train_acc: 1.0\n",
      "test_prec_macro: 0.8289758376413415\n",
      "train_prec_macro: 1.0\n",
      "test_rec_macro: 0.8240743153461976\n",
      "train_rec_macro: 1.0\n",
      "test_f1_macro: 0.8259738947607783\n",
      "train_f1_macro: 1.0\n",
      "\n",
      "\n"
     ]
    }
   ],
   "source": [
    "if __name__ == '__main__':\n",
    "    trainDir = 'hw1_trainingset.csv'\n",
    "    testDir = 'hw1_testset.csv'\n",
    "    \n",
    "    clf = DecisionTreeClassifier()\n",
    "    multiNom(trainDir, clf)\n",
    "    "
   ]
  },
  {
   "cell_type": "code",
   "execution_count": null,
   "metadata": {},
   "outputs": [],
   "source": []
  }
 ],
 "metadata": {
  "kernelspec": {
   "display_name": "Python 3",
   "language": "python",
   "name": "python3"
  },
  "language_info": {
   "codemirror_mode": {
    "name": "ipython",
    "version": 3
   },
   "file_extension": ".py",
   "mimetype": "text/x-python",
   "name": "python",
   "nbconvert_exporter": "python",
   "pygments_lexer": "ipython3",
   "version": "3.7.3"
  }
 },
 "nbformat": 4,
 "nbformat_minor": 2
}
