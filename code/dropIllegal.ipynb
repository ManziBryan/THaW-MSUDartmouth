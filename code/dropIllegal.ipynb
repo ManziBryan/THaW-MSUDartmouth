{
 "cells": [
  {
   "cell_type": "code",
   "execution_count": 2,
   "metadata": {},
   "outputs": [
    {
     "name": "stdout",
     "output_type": "stream",
     "text": [
      "done\n"
     ]
    }
   ],
   "source": [
    "import pandas as pd\n",
    "\n",
    "if __name__ == \"__main__\":\n",
    "    unknownDevice =r'C:\\Users\\brnma\\TSFeatures\\Replays.xlsx'\n",
    "    toSave = r'C:\\Users\\brnma\\TSFeatures\\legalReplay.xlsx'\n",
    "    \n",
    "    legal=r'C:\\Users\\brnma\\TSFeatures\\legalFeatures.xlsx'\n",
    "    \n",
    "    unseen = pd.read_excel(unknownDevice)\n",
    "    features = pd.read_excel(legal)\n",
    "    unseen = unseen.drop(columns= 'Unnamed: 0')\n",
    "    for column in unseen.columns:\n",
    "        if column not in features.columns:\n",
    "            \n",
    "            unseen = unseen.drop(columns = column)\n",
    "    unseen.to_excel(toSave)\n",
    "    print(\"done\")"
   ]
  },
  {
   "cell_type": "code",
   "execution_count": null,
   "metadata": {},
   "outputs": [],
   "source": []
  }
 ],
 "metadata": {
  "kernelspec": {
   "display_name": "Python 3",
   "language": "python",
   "name": "python3"
  },
  "language_info": {
   "codemirror_mode": {
    "name": "ipython",
    "version": 3
   },
   "file_extension": ".py",
   "mimetype": "text/x-python",
   "name": "python",
   "nbconvert_exporter": "python",
   "pygments_lexer": "ipython3",
   "version": "3.7.3"
  }
 },
 "nbformat": 4,
 "nbformat_minor": 2
}
